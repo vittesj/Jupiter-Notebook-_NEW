{
 "cells": [
  {
   "cell_type": "markdown",
   "id": "9a22145b",
   "metadata": {},
   "source": [
    "## Условие 2:\n",
    "### На складе лежат разные фрукты в разном количестве. Нужно написать функцию, которая на вход принимает любое количество названий фруктов и их количество, а возвращает общее количество фруктов на складе"
   ]
  },
  {
   "cell_type": "code",
   "execution_count": 2,
   "id": "09f99aaf",
   "metadata": {},
   "outputs": [],
   "source": [
    "def fruits(**kwargs):\n",
    "    summa = 0\n",
    "    for key, value in kwargs.items():\n",
    "        summa += value\n",
    "    return summa"
   ]
  },
  {
   "cell_type": "code",
   "execution_count": 6,
   "id": "13c6d677",
   "metadata": {},
   "outputs": [
    {
     "data": {
      "text/plain": [
       "8"
      ]
     },
     "execution_count": 6,
     "metadata": {},
     "output_type": "execute_result"
    }
   ],
   "source": [
    "fruits(a=1, s=1, d=4, f=1, g=1)"
   ]
  },
  {
   "cell_type": "markdown",
   "id": "acabb0fc",
   "metadata": {},
   "source": [
    "## Условие 3:\n",
    "### Дан список с затратами на рекламу. Но в данных есть ошибки, некоторые затраты имеют отрицательную величину. Удалите такие значения из списка и посчитайте суммарные затраты\n",
    " [100, 125, -90, 345, 655, -1, 0, 200]\n",
    "### Используйте list comprehensions"
   ]
  },
  {
   "cell_type": "code",
   "execution_count": 9,
   "id": "bbf7fba9",
   "metadata": {},
   "outputs": [
    {
     "data": {
      "text/plain": [
       "[100, 125, 345, 655, 0, 200]"
      ]
     },
     "execution_count": 9,
     "metadata": {},
     "output_type": "execute_result"
    }
   ],
   "source": [
    "expenses = [100, 125, -90, 345, 655, -1, 0, 200]\n",
    "expenses_format = [i for i in expenses if i >= 0]\n",
    "expenses_format"
   ]
  },
  {
   "cell_type": "code",
   "execution_count": 10,
   "id": "48418193",
   "metadata": {},
   "outputs": [
    {
     "data": {
      "text/plain": [
       "1425"
      ]
     },
     "execution_count": 10,
     "metadata": {},
     "output_type": "execute_result"
    }
   ],
   "source": [
    "sum(expenses_format)"
   ]
  },
  {
   "cell_type": "markdown",
   "id": "22eadd66",
   "metadata": {},
   "source": [
    "## Условие 4.1:\n",
    "## Даны два списка.\n",
    "## Дата покупки\n",
    "['2021-09-14', '2021-12-15', '2021-09-08', '2021-12-05', '2021-10-09', '2021-09-30', '2021-12-22', '2021-11-29', '2021-12-24', '2021-11-26', '2021-10-27', '2021-12-18', '2021-11-09', '2021-11-23', '2021-09-27', '2021-10-02', '2021-12-27', '2021-09-20', '2021-12-13', '2021-11-01', '2021-11-09', '2021-12-06', '2021-12-08', '2021-10-09', '2021-10-31', '2021-09-30', '2021-11-09', '2021-12-13', '2021-10-26', '2021-12-09']\n",
    "## Суммы покупок по датам\n",
    "[1270, 8413, 9028, 3703, 5739, 4095, 295, 4944, 5723, 3701, 4471, 651, 7037, 4274, 6275, 4988, 6930, 2971, 6592, 2004, 2822, 519, 3406, 2732, 5015, 2008, 316, 6333, 5700, 2887]"
   ]
  },
  {
   "cell_type": "markdown",
   "id": "d65f8653",
   "metadata": {},
   "source": [
    "### 4.1 Найдите, какая выручка у компании в ноябре\n",
    "### Используйте list comprehensions"
   ]
  },
  {
   "cell_type": "code",
   "execution_count": 11,
   "id": "bd5e970c",
   "metadata": {},
   "outputs": [],
   "source": [
    "list_data = ['2021-09-14', '2021-12-15', '2021-09-08', '2021-12-05', '2021-10-09', '2021-09-30', '2021-12-22', '2021-11-29'\n",
    "             , '2021-12-24', '2021-11-26', '2021-10-27', '2021-12-18', '2021-11-09', '2021-11-23', '2021-09-27', '2021-10-02'\n",
    "             , '2021-12-27', '2021-09-20', '2021-12-13', '2021-11-01', '2021-11-09', '2021-12-06', '2021-12-08', '2021-10-09'\n",
    "             , '2021-10-31', '2021-09-30', '2021-11-09', '2021-12-13', '2021-10-26', '2021-12-09']"
   ]
  },
  {
   "cell_type": "code",
   "execution_count": 12,
   "id": "94f813ea",
   "metadata": {},
   "outputs": [],
   "source": [
    "list_purchases = [1270, 8413, 9028, 3703, 5739, 4095, 295, 4944, 5723, 3701, 4471, 651, 7037, 4274, 6275, 4988, 6930, \n",
    "                  2971, 6592, 2004, 2822, 519, 3406, 2732, 5015, 2008, 316, 6333, 5700, 2887]"
   ]
  },
  {
   "cell_type": "code",
   "execution_count": 19,
   "id": "18524458",
   "metadata": {},
   "outputs": [
    {
     "data": {
      "text/plain": [
       "25098"
      ]
     },
     "execution_count": 19,
     "metadata": {},
     "output_type": "execute_result"
    }
   ],
   "source": [
    "sum([j for i, j in zip(list_data, list_purchases) if i.split('-')[1] == '11'])"
   ]
  },
  {
   "cell_type": "markdown",
   "id": "af46e571",
   "metadata": {},
   "source": [
    "### 4.2 Найдите выручку компании в зависимости от месяца\n",
    "### Для этого напишите функцию, которая на вход принимает список с датами и список с выручкой, а на выходе словарь, где ключи - это месяцы, а значения - это выручка.\n",
    "### Используйте аннотирование типов."
   ]
  },
  {
   "cell_type": "code",
   "execution_count": 22,
   "id": "77a1d069",
   "metadata": {},
   "outputs": [],
   "source": [
    "def result_dict(list_data:list, list_purchases:list) -> dict:\n",
    "    result = {}\n",
    "    month_dict = {'January': '01', 'February': '02', 'March': '03', 'April': '04', 'May': '05', 'June': '06', \n",
    "              'July': '07', 'August': '08', 'September': '09', 'October': '10', 'November': '11', 'December': '12'}\n",
    "    for key, val in month_dict.items():        \n",
    "        result[key] = sum([j for i, j in zip(list_data, list_purchases) if i.split('-')[1] == val])\n",
    "    return result   "
   ]
  },
  {
   "cell_type": "code",
   "execution_count": 23,
   "id": "b9175c7c",
   "metadata": {},
   "outputs": [
    {
     "data": {
      "text/plain": [
       "{'January': 0,\n",
       " 'February': 0,\n",
       " 'March': 0,\n",
       " 'April': 0,\n",
       " 'May': 0,\n",
       " 'June': 0,\n",
       " 'July': 0,\n",
       " 'August': 0,\n",
       " 'September': 25647,\n",
       " 'October': 28645,\n",
       " 'November': 25098,\n",
       " 'December': 45452}"
      ]
     },
     "execution_count": 23,
     "metadata": {},
     "output_type": "execute_result"
    }
   ],
   "source": [
    "result_dict(list_data, list_purchases)"
   ]
  },
  {
   "cell_type": "code",
   "execution_count": null,
   "id": "2ec42a6e",
   "metadata": {},
   "outputs": [],
   "source": []
  }
 ],
 "metadata": {
  "kernelspec": {
   "display_name": "Python 3",
   "language": "python",
   "name": "python3"
  },
  "language_info": {
   "codemirror_mode": {
    "name": "ipython",
    "version": 3
   },
   "file_extension": ".py",
   "mimetype": "text/x-python",
   "name": "python",
   "nbconvert_exporter": "python",
   "pygments_lexer": "ipython3",
   "version": "3.8.8"
  }
 },
 "nbformat": 4,
 "nbformat_minor": 5
}
